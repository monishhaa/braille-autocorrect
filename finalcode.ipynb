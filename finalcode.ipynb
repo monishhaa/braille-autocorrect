{
  "nbformat": 4,
  "nbformat_minor": 0,
  "metadata": {
    "colab": {
      "provenance": []
    },
    "kernelspec": {
      "name": "python3",
      "display_name": "Python 3"
    },
    "language_info": {
      "name": "python"
    }
  },
  "cells": [
    {
      "cell_type": "code",
      "execution_count": 10,
      "metadata": {
        "colab": {
          "base_uri": "https://localhost:8080/"
        },
        "id": "9_Ymv_F1wwTe",
        "outputId": "d4056f7d-5fbe-4f0d-bdaf-01c5502ef726"
      },
      "outputs": [
        {
          "output_type": "stream",
          "name": "stdout",
          "text": [
            "--2025-07-24 09:38:37--  https://raw.githubusercontent.com/first20hours/google-10000-english/master/google-10000-english-no-swears.txt\n",
            "Resolving raw.githubusercontent.com (raw.githubusercontent.com)... 185.199.108.133, 185.199.109.133, 185.199.110.133, ...\n",
            "Connecting to raw.githubusercontent.com (raw.githubusercontent.com)|185.199.108.133|:443... connected.\n",
            "HTTP request sent, awaiting response... 200 OK\n",
            "Length: 75153 (73K) [text/plain]\n",
            "Saving to: ‘freq_words.txt’\n",
            "\n",
            "\rfreq_words.txt        0%[                    ]       0  --.-KB/s               \rfreq_words.txt      100%[===================>]  73.39K  --.-KB/s    in 0.02s   \n",
            "\n",
            "2025-07-24 09:38:37 (3.39 MB/s) - ‘freq_words.txt’ saved [75153/75153]\n",
            "\n"
          ]
        }
      ],
      "source": [
        "!wget https://raw.githubusercontent.com/first20hours/google-10000-english/master/google-10000-english-no-swears.txt -O freq_words.txt\n"
      ]
    },
    {
      "cell_type": "code",
      "source": [
        "braille_map = {'D': '1', 'W': '2', 'Q': '3', 'K': '4', 'O': '5', 'P': '6'}\n",
        "\n",
        "braille_letter_map = {\n",
        "    'a': '1',    'b': '12',   'c': '14',   'd': '145',  'e': '15',\n",
        "    'f': '124',  'g': '1245', 'h': '125',  'i': '24',   'j': '245',\n",
        "    'k': '13',   'l': '123',  'm': '134',  'n': '1345', 'o': '135',\n",
        "    'p': '1234', 'q': '12345','r': '1235', 's': '234',  't': '2345',\n",
        "    'u': '136',  'v': '1236', 'w': '2456', 'x': '1346', 'y': '13456','z': '1356'\n",
        "}\n",
        "\n",
        "def normalize_combo(keys):\n",
        "    return ''.join(sorted([braille_map.get(k.upper(), '') for k in keys if k.upper() in braille_map]))\n",
        "\n",
        "def word_to_braille(word):\n",
        "    return [braille_letter_map.get(c, '') for c in word if c in braille_letter_map]\n"
      ],
      "metadata": {
        "id": "f6J807cTwypF"
      },
      "execution_count": 11,
      "outputs": []
    },
    {
      "cell_type": "code",
      "source": [
        "with open(\"freq_words.txt\") as f:\n",
        "    freq_words = [line.strip().lower() for line in f if line.strip().isalpha()]\n",
        "\n",
        "word_ranks = {word: rank+1 for rank, word in enumerate(freq_words)}\n",
        "\n",
        "braille_dict = {\n",
        "    word: word_to_braille(word)\n",
        "    for word in freq_words\n",
        "    if all(c in braille_letter_map for c in word)\n",
        "}\n",
        "print(f\"Loaded {len(braille_dict)} words.\")\n"
      ],
      "metadata": {
        "colab": {
          "base_uri": "https://localhost:8080/"
        },
        "id": "i6Pe6gcHw26H",
        "outputId": "abd55917-48e3-4ad0-c888-2b405aac7103"
      },
      "execution_count": 12,
      "outputs": [
        {
          "output_type": "stream",
          "name": "stdout",
          "text": [
            "Loaded 9894 words.\n"
          ]
        }
      ]
    },
    {
      "cell_type": "code",
      "source": [
        "def levenshtein_list(a, b):\n",
        "    if len(a) < len(b):\n",
        "        return levenshtein_list(b, a)\n",
        "    if len(b) == 0:\n",
        "        return len(a)\n",
        "    prev = list(range(len(b)+1))\n",
        "    for i, c1 in enumerate(a):\n",
        "        curr = [i+1]\n",
        "        for j, c2 in enumerate(b):\n",
        "            ins = prev[j+1] + 1\n",
        "            del_ = curr[j] + 1\n",
        "            sub = prev[j] + (c1 != c2)\n",
        "            curr.append(min(ins, del_, sub))\n",
        "        prev = curr\n",
        "    return prev[-1]\n",
        "\n",
        "def suggest_top_k(dot_list, k=3):\n",
        "    results = []\n",
        "    input_len = len(dot_list)\n",
        "    input_first = dot_list[0] if dot_list else ''\n",
        "\n",
        "    for word, b_chars in braille_dict.items():\n",
        "        if not b_chars:\n",
        "            continue\n",
        "        if abs(len(b_chars) - input_len) > 1:\n",
        "            continue\n",
        "\n",
        "        dist = levenshtein_list(dot_list, b_chars)\n",
        "        max_len = max(len(dot_list), len(b_chars))\n",
        "        confidence = 1.0 if dist == 0 else (1 - dist / max(len(dot_list), len(b_chars)))\n",
        "\n",
        "\n",
        "        starts_same = (b_chars[0] == input_first)\n",
        "        len_match_bonus = 0.1 if len(b_chars) == input_len else 0\n",
        "        freq_rank = word_ranks.get(word, 10001)\n",
        "\n",
        "        score = (\n",
        "            confidence\n",
        "            + (0.2 if starts_same else 0)\n",
        "            + len_match_bonus\n",
        "            - (freq_rank / 100000)\n",
        "        )\n",
        "\n",
        "        results.append((word, dist, freq_rank, confidence, score))\n",
        "\n",
        "    results.sort(key=lambda x: -x[4])\n",
        "    return results[:k]\n"
      ],
      "metadata": {
        "id": "SoBsutH3w5dK"
      },
      "execution_count": 13,
      "outputs": []
    },
    {
      "cell_type": "code",
      "source": [
        "print(\"Type each Braille letter as space-separated keys (e.g. D K or D Q O)\")\n",
        "print(\"Separate Braille letters by pressing Enter after each.\")\n",
        "print(\"Press Enter on an empty line to exit.\\n\")\n",
        "\n",
        "while True:\n",
        "    raw = input(\"⠿ Enter Braille word (one letter per line, empty line = exit): \").strip()\n",
        "    if not raw:\n",
        "        print(\"Exiting. Thank you!\")\n",
        "        break\n",
        "\n",
        "    combos = raw.strip().split('   ')  # 3 spaces between letters\n",
        "    dot_list = [normalize_combo(combo.split()) for combo in combos]\n",
        "\n",
        "    suggestions = suggest_top_k(dot_list)\n",
        "\n",
        "    if suggestions:\n",
        "        print(\"Top Suggestions:\")\n",
        "        for word, dist, rank, confidence, score in suggestions:\n",
        "            conf_percent = int(confidence * 100)\n",
        "            print(f\"   {word} (confidence: {conf_percent}%)\")\n",
        "    else:\n",
        "        print(\"No suggestions found.\")\n"
      ],
      "metadata": {
        "colab": {
          "base_uri": "https://localhost:8080/"
        },
        "id": "75P_Fon_w8nf",
        "outputId": "58a61547-18b7-4a23-8e2b-61d27f850f46"
      },
      "execution_count": 14,
      "outputs": [
        {
          "output_type": "stream",
          "name": "stdout",
          "text": [
            "Type each Braille letter as space-separated keys (e.g. D K or D Q O)\n",
            "Separate Braille letters by pressing Enter after each.\n",
            "Press Enter on an empty line to exit.\n",
            "\n",
            "⠿ Enter Braille word (one letter per line, empty line = exit): D K   D Q O   D K O   D W\n",
            "Top Suggestions:\n",
            "   code (confidence: 75%)\n",
            "   cod (confidence: 75%)\n",
            "   cost (confidence: 50%)\n",
            "⠿ Enter Braille word (one letter per line, empty line = exit): D K O   D   W Q K O   D\n",
            "Top Suggestions:\n",
            "   data (confidence: 100%)\n",
            "   date (confidence: 75%)\n",
            "   dana (confidence: 75%)\n",
            "⠿ Enter Braille word (one letter per line, empty line = exit): \n",
            "Exiting. Thank you!\n"
          ]
        }
      ]
    }
  ]
}